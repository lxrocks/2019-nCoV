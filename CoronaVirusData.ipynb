{
 "cells": [
  {
   "cell_type": "code",
   "execution_count": 108,
   "metadata": {},
   "outputs": [],
   "source": [
    "import pandas as pd\n",
    "import numpy as np\n",
    "from matplotlib import pyplot as plt\n"
   ]
  },
  {
   "cell_type": "code",
   "execution_count": 109,
   "metadata": {},
   "outputs": [],
   "source": [
    "xlf = \"who-confirmed-cases.xlsx\""
   ]
  },
  {
   "cell_type": "code",
   "execution_count": 110,
   "metadata": {},
   "outputs": [],
   "source": [
    "df = pd.read_excel(xlf,)\n",
    "wf = df[~df['Country'].str.contains('China -',regex=False)]"
   ]
  },
  {
   "cell_type": "code",
   "execution_count": 111,
   "metadata": {},
   "outputs": [
    {
     "data": {
      "text/html": [
       "<div>\n",
       "<style scoped>\n",
       "    .dataframe tbody tr th:only-of-type {\n",
       "        vertical-align: middle;\n",
       "    }\n",
       "\n",
       "    .dataframe tbody tr th {\n",
       "        vertical-align: top;\n",
       "    }\n",
       "\n",
       "    .dataframe thead th {\n",
       "        text-align: right;\n",
       "    }\n",
       "</style>\n",
       "<table border=\"1\" class=\"dataframe\">\n",
       "  <thead>\n",
       "    <tr style=\"text-align: right;\">\n",
       "      <th></th>\n",
       "      <th>Date</th>\n",
       "      <th>WHO_ReportNumber</th>\n",
       "      <th>Country</th>\n",
       "      <th>WHO_Confirmed</th>\n",
       "      <th>Deaths</th>\n",
       "    </tr>\n",
       "  </thead>\n",
       "  <tbody>\n",
       "    <tr>\n",
       "      <th>4</th>\n",
       "      <td>2020-01-20</td>\n",
       "      <td>1</td>\n",
       "      <td>Japan</td>\n",
       "      <td>1</td>\n",
       "      <td>0</td>\n",
       "    </tr>\n",
       "    <tr>\n",
       "      <th>5</th>\n",
       "      <td>2020-01-20</td>\n",
       "      <td>1</td>\n",
       "      <td>Republic of Korea</td>\n",
       "      <td>1</td>\n",
       "      <td>0</td>\n",
       "    </tr>\n",
       "    <tr>\n",
       "      <th>6</th>\n",
       "      <td>2020-01-20</td>\n",
       "      <td>1</td>\n",
       "      <td>Thailand</td>\n",
       "      <td>2</td>\n",
       "      <td>0</td>\n",
       "    </tr>\n",
       "    <tr>\n",
       "      <th>7</th>\n",
       "      <td>2020-01-20</td>\n",
       "      <td>1</td>\n",
       "      <td>China</td>\n",
       "      <td>278</td>\n",
       "      <td>3</td>\n",
       "    </tr>\n",
       "    <tr>\n",
       "      <th>22</th>\n",
       "      <td>2020-01-22</td>\n",
       "      <td>2</td>\n",
       "      <td>Japan</td>\n",
       "      <td>1</td>\n",
       "      <td>0</td>\n",
       "    </tr>\n",
       "    <tr>\n",
       "      <th>...</th>\n",
       "      <td>...</td>\n",
       "      <td>...</td>\n",
       "      <td>...</td>\n",
       "      <td>...</td>\n",
       "      <td>...</td>\n",
       "    </tr>\n",
       "    <tr>\n",
       "      <th>143</th>\n",
       "      <td>2020-01-29</td>\n",
       "      <td>9</td>\n",
       "      <td>United States of America</td>\n",
       "      <td>5</td>\n",
       "      <td>0</td>\n",
       "    </tr>\n",
       "    <tr>\n",
       "      <th>144</th>\n",
       "      <td>2020-01-29</td>\n",
       "      <td>9</td>\n",
       "      <td>Canada</td>\n",
       "      <td>3</td>\n",
       "      <td>0</td>\n",
       "    </tr>\n",
       "    <tr>\n",
       "      <th>145</th>\n",
       "      <td>2020-01-29</td>\n",
       "      <td>9</td>\n",
       "      <td>France</td>\n",
       "      <td>4</td>\n",
       "      <td>0</td>\n",
       "    </tr>\n",
       "    <tr>\n",
       "      <th>146</th>\n",
       "      <td>2020-01-29</td>\n",
       "      <td>9</td>\n",
       "      <td>Germany</td>\n",
       "      <td>4</td>\n",
       "      <td>0</td>\n",
       "    </tr>\n",
       "    <tr>\n",
       "      <th>147</th>\n",
       "      <td>2020-01-29</td>\n",
       "      <td>9</td>\n",
       "      <td>United Arab Emirates</td>\n",
       "      <td>4</td>\n",
       "      <td>0</td>\n",
       "    </tr>\n",
       "  </tbody>\n",
       "</table>\n",
       "<p>84 rows × 5 columns</p>\n",
       "</div>"
      ],
      "text/plain": [
       "          Date  WHO_ReportNumber                   Country  WHO_Confirmed  \\\n",
       "4   2020-01-20                 1                     Japan              1   \n",
       "5   2020-01-20                 1         Republic of Korea              1   \n",
       "6   2020-01-20                 1                  Thailand              2   \n",
       "7   2020-01-20                 1                     China            278   \n",
       "22  2020-01-22                 2                     Japan              1   \n",
       "..         ...               ...                       ...            ...   \n",
       "143 2020-01-29                 9  United States of America              5   \n",
       "144 2020-01-29                 9                    Canada              3   \n",
       "145 2020-01-29                 9                    France              4   \n",
       "146 2020-01-29                 9                   Germany              4   \n",
       "147 2020-01-29                 9      United Arab Emirates              4   \n",
       "\n",
       "    Deaths  \n",
       "4        0  \n",
       "5        0  \n",
       "6        0  \n",
       "7        3  \n",
       "22       0  \n",
       "..     ...  \n",
       "143      0  \n",
       "144      0  \n",
       "145      0  \n",
       "146      0  \n",
       "147      0  \n",
       "\n",
       "[84 rows x 5 columns]"
      ]
     },
     "execution_count": 111,
     "metadata": {},
     "output_type": "execute_result"
    }
   ],
   "source": [
    "wf"
   ]
  },
  {
   "cell_type": "code",
   "execution_count": 112,
   "metadata": {},
   "outputs": [
    {
     "name": "stdout",
     "output_type": "stream",
     "text": [
      "No of Countries should match the summary + China\n",
      "No Countries 16\n",
      "Countries :\n",
      "['Australia' 'Cambodia' 'Canada' 'China' 'France' 'Germany' 'Japan'\n",
      " 'Malaysia' 'Nepal' 'Republic of Korea' 'Singapore' 'Sri Lanka' 'Thailand'\n",
      " 'United Arab Emirates' 'United States of America' 'Viet Nam']\n"
     ]
    }
   ],
   "source": [
    "### Some steps to sanitize the data, clean up typo's\n",
    "### Filter out the Province data\n",
    "country = df.Country[~df['Country'].str.contains('China -',regex=False)].unique()\n",
    "print(\"No of Countries should match the summary + China\\nNo Countries {}\\nCountries :\\n{}\".format(len(country),np.sort(country)))"
   ]
  },
  {
   "cell_type": "code",
   "execution_count": null,
   "metadata": {},
   "outputs": [],
   "source": []
  },
  {
   "cell_type": "code",
   "execution_count": 115,
   "metadata": {},
   "outputs": [
    {
     "data": {
      "image/png": "[encoded data removed]",
      "text/plain": [
       "<Figure size 432x288 with 1 Axes>"
      ]
     },
     "metadata": {},
     "output_type": "display_data"
    }
   ],
   "source": [
    "### Plot the China Data\n",
    "x = wf.Date[wf.Country == 'China']\n",
    "y = wf.WHO_Confirmed[wf.Country == 'China']\n",
    "plt.bar(x, y, align='center')\n",
    "plt.title('Novel Corona Virus Timeline')\n",
    "plt.ylabel('China')\n",
    "plt.xlabel('Year')\n",
    "\n",
    " \n",
    "plt.show()"
   ]
  },
  {
   "cell_type": "code",
   "execution_count": null,
   "metadata": {},
   "outputs": [],
   "source": []
  },
  {
   "cell_type": "code",
   "execution_count": null,
   "metadata": {},
   "outputs": [],
   "source": []
  }
 ],
 "metadata": {
  "kernelspec": {
   "display_name": "Python 3",
   "language": "python",
   "name": "python3"
  },
  "language_info": {
   "codemirror_mode": {
    "name": "ipython",
    "version": 3
   },
   "file_extension": ".py",
   "mimetype": "text/x-python",
   "name": "python",
   "nbconvert_exporter": "python",
   "pygments_lexer": "ipython3",
   "version": "3.7.3"
  }
 },
 "nbformat": 4,
 "nbformat_minor": 2
}
